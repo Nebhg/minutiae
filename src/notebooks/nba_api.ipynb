{
 "cells": [
  {
   "cell_type": "code",
   "execution_count": 5,
   "metadata": {},
   "outputs": [
    {
     "name": "stdout",
     "output_type": "stream",
     "text": [
      "Number of teams fetched: 30\n"
     ]
    },
    {
     "data": {
      "text/plain": [
       "[{'id': 1610612737,\n",
       "  'full_name': 'Atlanta Hawks',\n",
       "  'abbreviation': 'ATL',\n",
       "  'nickname': 'Hawks',\n",
       "  'city': 'Atlanta',\n",
       "  'state': 'Georgia',\n",
       "  'year_founded': 1949},\n",
       " {'id': 1610612738,\n",
       "  'full_name': 'Boston Celtics',\n",
       "  'abbreviation': 'BOS',\n",
       "  'nickname': 'Celtics',\n",
       "  'city': 'Boston',\n",
       "  'state': 'Massachusetts',\n",
       "  'year_founded': 1946},\n",
       " {'id': 1610612739,\n",
       "  'full_name': 'Cleveland Cavaliers',\n",
       "  'abbreviation': 'CLE',\n",
       "  'nickname': 'Cavaliers',\n",
       "  'city': 'Cleveland',\n",
       "  'state': 'Ohio',\n",
       "  'year_founded': 1970}]"
      ]
     },
     "execution_count": 5,
     "metadata": {},
     "output_type": "execute_result"
    }
   ],
   "source": [
    "# pandas data frames\n",
    "from nba_api.stats.static import teams\n",
    "# get_teams returns a list of 30 dictionaries, each an NBA team.\n",
    "nba_teams = teams.get_teams()\n",
    "print('Number of teams fetched: {}'.format(len(nba_teams)))\n",
    "nba_teams[:3]"
   ]
  },
  {
   "cell_type": "code",
   "execution_count": 6,
   "metadata": {},
   "outputs": [
    {
     "name": "stdout",
     "output_type": "stream",
     "text": [
      "Number of players fetched: 4815\n"
     ]
    },
    {
     "data": {
      "text/plain": [
       "[{'id': 76001,\n",
       "  'full_name': 'Alaa Abdelnaby',\n",
       "  'first_name': 'Alaa',\n",
       "  'last_name': 'Abdelnaby',\n",
       "  'is_active': False},\n",
       " {'id': 76002,\n",
       "  'full_name': 'Zaid Abdul-Aziz',\n",
       "  'first_name': 'Zaid',\n",
       "  'last_name': 'Abdul-Aziz',\n",
       "  'is_active': False},\n",
       " {'id': 76003,\n",
       "  'full_name': 'Kareem Abdul-Jabbar',\n",
       "  'first_name': 'Kareem',\n",
       "  'last_name': 'Abdul-Jabbar',\n",
       "  'is_active': False},\n",
       " {'id': 51,\n",
       "  'full_name': 'Mahmoud Abdul-Rauf',\n",
       "  'first_name': 'Mahmoud',\n",
       "  'last_name': 'Abdul-Rauf',\n",
       "  'is_active': False},\n",
       " {'id': 1505,\n",
       "  'full_name': 'Tariq Abdul-Wahad',\n",
       "  'first_name': 'Tariq',\n",
       "  'last_name': 'Abdul-Wahad',\n",
       "  'is_active': False}]"
      ]
     },
     "execution_count": 6,
     "metadata": {},
     "output_type": "execute_result"
    }
   ],
   "source": [
    "from nba_api.stats.static import players\n",
    "# get_players returns a list of dictionaries, each representing a player.\n",
    "nba_players = players.get_players()\n",
    "print('Number of players fetched: {}'.format(len(nba_players)))\n",
    "nba_players[:5]"
   ]
  },
  {
   "cell_type": "code",
   "execution_count": 7,
   "metadata": {},
   "outputs": [
    {
     "data": {
      "text/plain": [
       "{'id': 1610612759,\n",
       " 'full_name': 'San Antonio Spurs',\n",
       " 'abbreviation': 'SAS',\n",
       " 'nickname': 'Spurs',\n",
       " 'city': 'San Antonio',\n",
       " 'state': 'Texas',\n",
       " 'year_founded': 1976}"
      ]
     },
     "execution_count": 7,
     "metadata": {},
     "output_type": "execute_result"
    }
   ],
   "source": [
    "spurs = [team for team in nba_teams\n",
    "         if team['full_name'] == 'San Antonio Spurs'][0]\n",
    "spurs"
   ]
  },
  {
   "cell_type": "code",
   "execution_count": 8,
   "metadata": {},
   "outputs": [
    {
     "data": {
      "text/plain": [
       "{'id': 1495,\n",
       " 'full_name': 'Tim Duncan',\n",
       " 'first_name': 'Tim',\n",
       " 'last_name': 'Duncan',\n",
       " 'is_active': False}"
      ]
     },
     "execution_count": 8,
     "metadata": {},
     "output_type": "execute_result"
    }
   ],
   "source": [
    "big_fundamental = [player for player in nba_players\n",
    "                   if player['full_name'] == 'Tim Duncan'][0]\n",
    "big_fundamental"
   ]
  },
  {
   "cell_type": "code",
   "execution_count": 3,
   "metadata": {},
   "outputs": [],
   "source": [
    "from dotenv import load_dotenv\n",
    "import os\n",
    "\n",
    "load_dotenv()\n",
    "API_KEY = os.getenv(\"API_KEY\")"
   ]
  },
  {
   "cell_type": "code",
   "execution_count": 6,
   "metadata": {},
   "outputs": [],
   "source": [
    "#Get stats for player by searching for id\n",
    "from nba_api.stats.endpoints import playercareerstats\n",
    "# Anthony Davis\n",
    "career = playercareerstats.PlayerCareerStats(player_id='203076')\n",
    "career.get_data_frames()[0]\n",
    "\n",
    "playerData = career.get_data_frames()[0]"
   ]
  },
  {
   "cell_type": "code",
   "execution_count": 8,
   "metadata": {},
   "outputs": [
    {
     "data": {
      "text/plain": [
       "\"Based on the information provided, Player ID 203076's best season appears to be the 2022-23 season. In that season, they played 56 games, started 54 of them, and averaged 30.0 minutes per game. They had a field goal percentage of 56.3%, a three-point percentage of 25.7%, and a free throw percentage of 78.4%. They also had 195 offensive rebounds, 507 defensive rebounds, and a total of 702 rebounds. Additionally, they had 148 assists, 59 steals, and 114 blocks. Their total points for the season were 1451.\""
      ]
     },
     "execution_count": 8,
     "metadata": {},
     "output_type": "execute_result"
    }
   ],
   "source": [
    "from langchain.llms import OpenAI\n",
    "from langchain.chat_models import ChatOpenAI\n",
    "\n",
    "llm = OpenAI()\n",
    "chat_model = ChatOpenAI()\n",
    "\n",
    "llm.predict(\"What was this players best season?\" + playerData.to_string())\n",
    "\n",
    "chat_model.predict(\"What was this players best season?\" + playerData.to_string())\n"
   ]
  },
  {
   "cell_type": "code",
   "execution_count": 12,
   "metadata": {},
   "outputs": [
    {
     "name": "stdout",
     "output_type": "stream",
     "text": [
      "['0042200405', '0042200405', '0042200404', '0042200404', '0042200403', '0042200403', '0042200402', '0042200402', '0042200401', '0042200401', '0042200307', '0042200307', '0042200306', '0042200306', '0042200305', '0042200305', '0042200304', '0042200304', '0042200314', '0042200314', '0042200303', '0042200303', '0042200313', '0042200313', '0042200302', '0042200302', '0042200312', '0042200312', '0042200301', '0042200301', '0042200311', '0042200311', '0042200217', '0042200217', '0042200236', '0042200206', '0042200206', '0042200236', '0042200216', '0042200226', '0042200216', '0042200226', '0042200235', '0042200205', '0042200205', '0042200235', '0042200225', '0042200225', '0042200215', '0042200215', '0042200234', '0042200204', '0042200204', '0042200234', '0042200224', '0042200214', '0042200214', '0042200224', '0042200203', '0042200233', '0042200203', '0042200233', '0042200223', '0042200223', '0042200213', '0042200213', '0042200232', '0042200232', '0042200212', '0042200212', '0042200202', '0042200231', '0042200202', '0042200231', '0042200211', '0042200222', '0042200222', '0042200211', '0042200201', '0042200167', '0042200167', '0042200201', '0042200221', '0042200221', '0042200156', '0042200166', '0042200156', '0042200166', '0042200116', '0042200116', '0042200135', '0042200165', '0042200155', '0042200105', '0042200105', '0042200155', '0042200135', '0042200165', '0042200175', '0042200115', '0042200145', '0042200115', '0042200145', '0042200175', '0042200154', '0042200104', '0042200154', '0042200104', '0042200134', '0042200114', '0042200164', '0042200114', '0042200134', '0042200144', '0042200144', '0042200164', '0042200103', '0042200153', '0042200124', '0042200174', '0042200103', '0042200174', '0042200153', '0042200124', '0042200133', '0042200143', '0042200133', '0042200143', '0042200113', '0042200113', '0042200173', '0042200163', '0042200173', '0042200123', '0042200163', '0042200123', '0042200142', '0042200102', '0042200102', '0042200152', '0042200152', '0042200142', '0042200172', '0042200172', '0042200112', '0042200132', '0042200132', '0042200112', '0042200122', '0042200122', '0042200162', '0042200162', '0042200141', '0042200101', '0042200151', '0042200151', '0042200101', '0042200141', '0042200171', '0042200171', '0042200121', '0042200161', '0042200111', '0042200111', '0042200161', '0042200131', '0042200131', '0042200121', '2042200402', '2042200402', '2042200401', '2042200401', '2042200301', '2042200311', '2042200301', '2042200311', '2042200201', '2042200201', '2042200231', '2042200231', '2042200211', '2042200221', '2042200211', '2042200221', '2042200111', '2042200111', '2042200121', '2042200121', '2042200131', '2042200101', '2042200101', '2042200131']\n"
     ]
    }
   ],
   "source": [
    "from nba_api.stats.endpoints import leaguegamefinder\n",
    "import pandas as pd\n",
    "\n",
    "# Create an instance of the LeagueGameFinder class\n",
    "gamefinder = leaguegamefinder.LeagueGameFinder(season_nullable='2022-23', season_type_nullable='Playoffs')\n",
    "\n",
    "# Get a list of dictionaries, each representing a game\n",
    "games = gamefinder.get_data_frames()[0]\n",
    "\n",
    "# Convert the list of dictionaries to a DataFrame\n",
    "df = pd.DataFrame(games)\n",
    "\n",
    "game_ids = df['GAME_ID'].tolist()\n"
   ]
  },
  {
   "cell_type": "code",
   "execution_count": 14,
   "metadata": {},
   "outputs": [],
   "source": [
    "from nba_api.stats.endpoints import boxscoretraditionalv2\n",
    "import pandas as pd\n",
    "\n",
    "# Initialize an empty DataFrame to store the boxscore data\n",
    "boxscore_df = pd.DataFrame()\n",
    "\n",
    "# Iterate over each game ID\n",
    "for game_id in game_ids:\n",
    "    # Get the boxscore data for the game\n",
    "    boxscore = boxscoretraditionalv2.BoxScoreTraditionalV2(game_id=game_id)\n",
    "    \n",
    "    # Get the data as a DataFrame\n",
    "    game_df = boxscore.get_data_frames()[0]\n",
    "    \n",
    "    # Concatenate the game_df with the boxscore_df\n",
    "    boxscore_df = pd.concat([boxscore_df, game_df], ignore_index=True)\n",
    "\n",
    "# Save the boxscore data to a CSV file\n",
    "boxscore_df.to_csv('boxscore_data.csv', index=False)"
   ]
  },
  {
   "cell_type": "code",
   "execution_count": 18,
   "metadata": {},
   "outputs": [],
   "source": [
    "from nba_api.stats.endpoints import boxscoretraditionalv2\n",
    "import pandas as pd\n",
    "\n",
    "# Initialize empty DataFrames to store the advanced stats and basic stats\n",
    "advanced_stats_df = pd.DataFrame()\n",
    "basic_stats_df = pd.DataFrame()\n",
    "\n",
    "# Iterate over each game ID\n",
    "for game_id in game_ids:\n",
    "    # Get the boxscore data for the game\n",
    "    boxscore = boxscoretraditionalv2.BoxScoreTraditionalV2(game_id=game_id)\n",
    "    \n",
    "    # Get the advanced stats data as a DataFrame\n",
    "    advanced_stats_game_df = boxscore.get_data_frames()[1]\n",
    "    \n",
    "    # Get the basic stats data as a DataFrame\n",
    "    basic_stats_game_df = boxscore.get_data_frames()[0]\n",
    "    \n",
    "    # Concatenate the advanced_stats_game_df with the advanced_stats_df\n",
    "    advanced_stats_df = pd.concat([advanced_stats_df, advanced_stats_game_df], ignore_index=True)\n",
    "    \n",
    "    # Concatenate the basic_stats_game_df with the basic_stats_df\n",
    "    basic_stats_df = pd.concat([basic_stats_df, basic_stats_game_df], ignore_index=True)\n",
    "\n",
    "# Save the advanced stats and basic stats to separate CSV files\n",
    "advanced_stats_df.to_csv('advanced_stats.csv', index=False)\n",
    "basic_stats_df.to_csv('basic_stats.csv', index=False)"
   ]
  }
 ],
 "metadata": {
  "kernelspec": {
   "display_name": "jupyter",
   "language": "python",
   "name": "python3"
  },
  "language_info": {
   "codemirror_mode": {
    "name": "ipython",
    "version": 3
   },
   "file_extension": ".py",
   "mimetype": "text/x-python",
   "name": "python",
   "nbconvert_exporter": "python",
   "pygments_lexer": "ipython3",
   "version": "3.11.5"
  },
  "orig_nbformat": 4
 },
 "nbformat": 4,
 "nbformat_minor": 2
}
