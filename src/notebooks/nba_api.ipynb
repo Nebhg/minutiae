{
 "cells": [
  {
   "cell_type": "code",
   "execution_count": 5,
   "metadata": {},
   "outputs": [
    {
     "name": "stdout",
     "output_type": "stream",
     "text": [
      "Number of teams fetched: 30\n"
     ]
    },
    {
     "data": {
      "text/plain": [
       "[{'id': 1610612737,\n",
       "  'full_name': 'Atlanta Hawks',\n",
       "  'abbreviation': 'ATL',\n",
       "  'nickname': 'Hawks',\n",
       "  'city': 'Atlanta',\n",
       "  'state': 'Georgia',\n",
       "  'year_founded': 1949},\n",
       " {'id': 1610612738,\n",
       "  'full_name': 'Boston Celtics',\n",
       "  'abbreviation': 'BOS',\n",
       "  'nickname': 'Celtics',\n",
       "  'city': 'Boston',\n",
       "  'state': 'Massachusetts',\n",
       "  'year_founded': 1946},\n",
       " {'id': 1610612739,\n",
       "  'full_name': 'Cleveland Cavaliers',\n",
       "  'abbreviation': 'CLE',\n",
       "  'nickname': 'Cavaliers',\n",
       "  'city': 'Cleveland',\n",
       "  'state': 'Ohio',\n",
       "  'year_founded': 1970}]"
      ]
     },
     "execution_count": 5,
     "metadata": {},
     "output_type": "execute_result"
    }
   ],
   "source": [
    "# pandas data frames\n",
    "from nba_api.stats.static import teams\n",
    "# get_teams returns a list of 30 dictionaries, each an NBA team.\n",
    "nba_teams = teams.get_teams()\n",
    "print('Number of teams fetched: {}'.format(len(nba_teams)))\n",
    "nba_teams[:3]"
   ]
  },
  {
   "cell_type": "code",
   "execution_count": 6,
   "metadata": {},
   "outputs": [
    {
     "name": "stdout",
     "output_type": "stream",
     "text": [
      "Number of players fetched: 4815\n"
     ]
    },
    {
     "data": {
      "text/plain": [
       "[{'id': 76001,\n",
       "  'full_name': 'Alaa Abdelnaby',\n",
       "  'first_name': 'Alaa',\n",
       "  'last_name': 'Abdelnaby',\n",
       "  'is_active': False},\n",
       " {'id': 76002,\n",
       "  'full_name': 'Zaid Abdul-Aziz',\n",
       "  'first_name': 'Zaid',\n",
       "  'last_name': 'Abdul-Aziz',\n",
       "  'is_active': False},\n",
       " {'id': 76003,\n",
       "  'full_name': 'Kareem Abdul-Jabbar',\n",
       "  'first_name': 'Kareem',\n",
       "  'last_name': 'Abdul-Jabbar',\n",
       "  'is_active': False},\n",
       " {'id': 51,\n",
       "  'full_name': 'Mahmoud Abdul-Rauf',\n",
       "  'first_name': 'Mahmoud',\n",
       "  'last_name': 'Abdul-Rauf',\n",
       "  'is_active': False},\n",
       " {'id': 1505,\n",
       "  'full_name': 'Tariq Abdul-Wahad',\n",
       "  'first_name': 'Tariq',\n",
       "  'last_name': 'Abdul-Wahad',\n",
       "  'is_active': False}]"
      ]
     },
     "execution_count": 6,
     "metadata": {},
     "output_type": "execute_result"
    }
   ],
   "source": [
    "from nba_api.stats.static import players\n",
    "# get_players returns a list of dictionaries, each representing a player.\n",
    "nba_players = players.get_players()\n",
    "print('Number of players fetched: {}'.format(len(nba_players)))\n",
    "nba_players[:5]"
   ]
  },
  {
   "cell_type": "code",
   "execution_count": 7,
   "metadata": {},
   "outputs": [
    {
     "data": {
      "text/plain": [
       "{'id': 1610612759,\n",
       " 'full_name': 'San Antonio Spurs',\n",
       " 'abbreviation': 'SAS',\n",
       " 'nickname': 'Spurs',\n",
       " 'city': 'San Antonio',\n",
       " 'state': 'Texas',\n",
       " 'year_founded': 1976}"
      ]
     },
     "execution_count": 7,
     "metadata": {},
     "output_type": "execute_result"
    }
   ],
   "source": [
    "spurs = [team for team in nba_teams\n",
    "         if team['full_name'] == 'San Antonio Spurs'][0]\n",
    "spurs"
   ]
  },
  {
   "cell_type": "code",
   "execution_count": 8,
   "metadata": {},
   "outputs": [
    {
     "data": {
      "text/plain": [
       "{'id': 1495,\n",
       " 'full_name': 'Tim Duncan',\n",
       " 'first_name': 'Tim',\n",
       " 'last_name': 'Duncan',\n",
       " 'is_active': False}"
      ]
     },
     "execution_count": 8,
     "metadata": {},
     "output_type": "execute_result"
    }
   ],
   "source": [
    "big_fundamental = [player for player in nba_players\n",
    "                   if player['full_name'] == 'Tim Duncan'][0]\n",
    "big_fundamental"
   ]
  },
  {
   "cell_type": "code",
   "execution_count": 6,
   "metadata": {},
   "outputs": [],
   "source": [
    "from dotenv import load_dotenv\n",
    "import os\n",
    "\n",
    "load_dotenv()\n",
    "API_KEY = os.getenv(\"OPENAI_API_KEY\")"
   ]
  },
  {
   "cell_type": "code",
   "execution_count": 6,
   "metadata": {},
   "outputs": [],
   "source": [
    "#Get stats for player by searching for id\n",
    "from nba_api.stats.endpoints import playercareerstats\n",
    "# Anthony Davis\n",
    "career = playercareerstats.PlayerCareerStats(player_id='203076')\n",
    "career.get_data_frames()[0]\n",
    "\n",
    "playerData = career.get_data_frames()[0]"
   ]
  },
  {
   "attachments": {},
   "cell_type": "markdown",
   "metadata": {},
   "source": [
    "Querying player data"
   ]
  },
  {
   "cell_type": "code",
   "execution_count": 8,
   "metadata": {},
   "outputs": [
    {
     "data": {
      "text/plain": [
       "\"Based on the information provided, Player ID 203076's best season appears to be the 2022-23 season. In that season, they played 56 games, started 54 of them, and averaged 30.0 minutes per game. They had a field goal percentage of 56.3%, a three-point percentage of 25.7%, and a free throw percentage of 78.4%. They also had 195 offensive rebounds, 507 defensive rebounds, and a total of 702 rebounds. Additionally, they had 148 assists, 59 steals, and 114 blocks. Their total points for the season were 1451.\""
      ]
     },
     "execution_count": 8,
     "metadata": {},
     "output_type": "execute_result"
    }
   ],
   "source": [
    "from langchain.llms import OpenAI\n",
    "from langchain.chat_models import ChatOpenAI\n",
    "\n",
    "llm = OpenAI()\n",
    "chat_model = ChatOpenAI()\n",
    "\n",
    "llm.predict(\"What was this players best season?\" + playerData.to_string())\n",
    "\n",
    "chat_model.predict(\"What was this players best season?\" + playerData.to_string())\n"
   ]
  },
  {
   "cell_type": "code",
   "execution_count": 20,
   "metadata": {},
   "outputs": [],
   "source": [
    "from nba_api.stats.endpoints import leaguegamefinder\n",
    "import pandas as pd\n",
    "\n",
    "# Create an instance of the LeagueGameFinder class\n",
    "gamefinder = leaguegamefinder.LeagueGameFinder(season_nullable='2022-23', season_type_nullable='Playoffs')\n",
    "\n",
    "# Get a list of dictionaries, each representing a game\n",
    "games = gamefinder.get_data_frames()[0]\n",
    "\n",
    "# Convert the list of dictionaries to a DataFrame\n",
    "df = pd.DataFrame(games)\n",
    "\n",
    "\n",
    "# Convert the list to a set to remove duplicates, then convert it back to a list\n",
    "game_ids = list(set(game_ids))\n"
   ]
  },
  {
   "cell_type": "code",
   "execution_count": 21,
   "metadata": {},
   "outputs": [],
   "source": [
    "from nba_api.stats.endpoints import boxscoretraditionalv2\n",
    "import pandas as pd\n",
    "\n",
    "# Initialize an empty DataFrame to store the boxscore data\n",
    "boxscore_df = pd.DataFrame()\n",
    "\n",
    "# Iterate over each game ID\n",
    "for game_id in game_ids:\n",
    "    # Get the boxscore data for the game\n",
    "    boxscore = boxscoretraditionalv2.BoxScoreTraditionalV2(game_id=game_id)\n",
    "    \n",
    "    # Get the data as a DataFrame\n",
    "    game_df = boxscore.get_data_frames()[0]\n",
    "    \n",
    "    # Concatenate the game_df with the boxscore_df\n",
    "    boxscore_df = pd.concat([boxscore_df, game_df], ignore_index=True)\n",
    "\n",
    "# Save the boxscore data to a CSV file\n",
    "boxscore_df.to_csv('boxscore_data.csv', index=False)"
   ]
  },
  {
   "cell_type": "code",
   "execution_count": 66,
   "metadata": {},
   "outputs": [],
   "source": [
    "from nba_api.stats.endpoints import boxscoreadvancedv2\n",
    "import pandas as pd\n",
    "\n",
    "# Initialize an empty DataFrame to store the advanced stats\n",
    "advanced_stats_df = pd.DataFrame()\n",
    "\n",
    "# Iterate over each game ID\n",
    "for game_id in game_ids:\n",
    "    # Get the advanced stats for the game\n",
    "    advanced_stats = boxscoreadvancedv2.BoxScoreAdvancedV2(game_id=game_id)\n",
    "    \n",
    "    # Get the data as a DataFrame\n",
    "    game_df = advanced_stats.get_data_frames()[0]\n",
    "    \n",
    "    # Concatenate the game_df with the advanced_stats_df\n",
    "    advanced_stats_df = pd.concat([advanced_stats_df, game_df], ignore_index=True)\n",
    "\n",
    "# Save the advanced stats to a CSV file\n",
    "advanced_stats_df.to_csv('advanced_stats.csv', index=False)"
   ]
  },
  {
   "cell_type": "code",
   "execution_count": 38,
   "metadata": {},
   "outputs": [],
   "source": [
    "advanced_stats_df.to_json('advanced_stats.json', index=False)"
   ]
  },
  {
   "cell_type": "code",
   "execution_count": 3,
   "metadata": {},
   "outputs": [],
   "source": [
    "from langchain.document_loaders import CSVLoader\n",
    "from langchain.indexes import VectorstoreIndexCreator\n",
    "from langchain.chains import RetrievalQA\n",
    "from langchain.llms import OpenAI\n",
    "import os"
   ]
  },
  {
   "cell_type": "code",
   "execution_count": 4,
   "metadata": {},
   "outputs": [],
   "source": [
    "# Load the documents\n",
    "loader = CSVLoader(file_path='advanced_stats.csv')"
   ]
  },
  {
   "cell_type": "code",
   "execution_count": 7,
   "metadata": {},
   "outputs": [],
   "source": [
    "# Create an index using the loaded documents\n",
    "index_creator = VectorstoreIndexCreator()\n",
    "docsearch = index_creator.from_loaders([loader])"
   ]
  },
  {
   "cell_type": "code",
   "execution_count": 8,
   "metadata": {},
   "outputs": [],
   "source": [
    "chain = RetrievalQA.from_chain_type(llm=OpenAI(), chain_type=\"stuff\", retriever=docsearch.vectorstore.as_retriever(), input_key=\"question\")\n"
   ]
  },
  {
   "cell_type": "code",
   "execution_count": 11,
   "metadata": {},
   "outputs": [],
   "source": [
    "#Pass a query to the chain\n",
    "query = \"\"\n",
    "response = chain({\"question\": query})"
   ]
  },
  {
   "cell_type": "code",
   "execution_count": 12,
   "metadata": {},
   "outputs": [
    {
     "name": "stdout",
     "output_type": "stream",
     "text": [
      " I don't know.\n"
     ]
    }
   ],
   "source": [
    "print(response['result'])"
   ]
  },
  {
   "attachments": {},
   "cell_type": "markdown",
   "metadata": {},
   "source": [
    "*** QA over CSV using Agent ***"
   ]
  },
  {
   "cell_type": "code",
   "execution_count": 35,
   "metadata": {},
   "outputs": [],
   "source": [
    "from langchain.document_loaders import CSVLoader\n",
    "from langchain.embeddings.openai import OpenAIEmbeddings\n",
    "from langchain.vectorstores import FAISS\n",
    "\n",
    "# Load the documents\n",
    "loader = CSVLoader(file_path='advanced_stats.csv')\n",
    "documents = loader.load()\n",
    "\n",
    "# Create the embeddings\n",
    "embeddings = OpenAIEmbeddings()\n",
    "\n",
    "# Create the FAISS index\n",
    "index = FAISS.from_documents(documents, embeddings)\n",
    "\n",
    "# Save the index to a file\n",
    "index.save_local(\"advanced_stats\")"
   ]
  },
  {
   "cell_type": "code",
   "execution_count": 28,
   "metadata": {},
   "outputs": [],
   "source": [
    "from langchain.agents import OpenAIFunctionsAgent, AgentExecutor\n",
    "from langchain.prompts import ChatPromptTemplate, MessagesPlaceholder\n",
    "from langchain.tools import PythonAstREPLTool\n",
    "import pandas as pd\n",
    "from langchain.chat_models import ChatOpenAI\n",
    "from pydantic import BaseModel, Field\n",
    "from langchain.embeddings import OpenAIEmbeddings\n",
    "from langchain.vectorstores import FAISS\n",
    "from langchain.agents.agent_toolkits.conversational_retrieval.tool import create_retriever_tool\n",
    "\n",
    "pd.set_option('display.max_rows', 20)\n",
    "pd.set_option('display.max_columns', 20)\n",
    "\n",
    "embedding_model = OpenAIEmbeddings()\n",
    "vectorstore = FAISS.load_local(\"advanced_stats\", embedding_model)\n",
    "retriever_tool = create_retriever_tool(vectorstore.as_retriever(), \"player_name_search\", \"Search for a player by name and find the records corresponding to players with similar name as the query\")\n",
    "\n",
    "TEMPLATE = \"\"\"You are working with a pandas dataframe in Python. The name of the dataframe is `df`.\n",
    "It is important to understand the attributes of the dataframe before working with it. This is the result of running `df.head().to_markdown()`\n",
    "\n",
    "<df>\n",
    "{dhead}\n",
    "</df>\n",
    "\n",
    "You are not meant to use only these rows to answer questions - they are meant as a way of telling you about the shape and schema of the dataframe.\n",
    "You also do not have use only the information here to answer questions - you can run intermediate queries to do exploratory data analysis to give you more information as needed.\n",
    "\n",
    "You have a tool called `player_search` through which you can lookup a player by name and find the records corresponding to players with similar name as the query.\n",
    "You should only really use this if your search term contains a players name. Otherwise, try to solve it with code.\n",
    "\n",
    "For example:\n",
    "\n",
    "<question>What is the average points per game for LeBron James?</question>\n",
    "<logic>Use `player_search` since you can use the query `LeBron James`</logic>\n",
    "\n",
    "<question>Who has the highest points per game?</question>\n",
    "<logic>Use `python_repl` since even though the question is about a player, you don't know their name so you can't include it.</logic>\n",
    "\"\"\"\n",
    "\n",
    "class PythonInputs(BaseModel):\n",
    "    query: str = Field(description=\"code snippet to run\")\n",
    "\n",
    "df = pd.read_csv(\"advanced_stats.csv\")\n",
    "template = TEMPLATE.format(dhead=df.head().to_markdown())\n",
    "\n",
    "prompt = ChatPromptTemplate.from_messages([\n",
    "    (\"system\", template),\n",
    "    MessagesPlaceholder(variable_name=\"agent_scratchpad\"),\n",
    "    (\"human\", \"{input}\")\n",
    "])\n",
    "\n",
    "def get_chain():\n",
    "    repl = PythonAstREPLTool(locals={\"df\": df}, name=\"python_repl\",\n",
    "                             description=\"Runs code and returns the output of the final line\",\n",
    "                             args_schema=PythonInputs)\n",
    "    tools = [repl, retriever_tool]\n",
    "    agent = OpenAIFunctionsAgent(llm=ChatOpenAI(temperature=0, model=\"gpt-4\"), prompt=prompt, tools=tools)\n",
    "    agent_executor = AgentExecutor(agent=agent, tools=tools, max_iterations=5, early_stopping_method=\"generate\")\n",
    "    return agent_executor\n",
    "\n",
    "agent_executor = get_chain()"
   ]
  },
  {
   "cell_type": "code",
   "execution_count": 27,
   "metadata": {},
   "outputs": [
    {
     "name": "stdout",
     "output_type": "stream",
     "text": [
      "{'input': 'who performed best average across all games?', 'output': \"To find out who performed best on average across all games, we need to calculate the average of all numeric columns for each player and then find the player with the highest average. \\n\\nWe can do this by first selecting only the numeric columns from the dataframe, then grouping by the 'PLAYER_NAME' column and calculating the mean for each player. Finally, we find the player with the highest average. \\n\\nLet's write the code to do this.\"}\n"
     ]
    }
   ],
   "source": [
    "# Now you can use the agent_executor to answer questions\n",
    "question = \"who performed best average across all games?\"\n",
    "response = agent_executor({\"input\": question})\n",
    "print(response)"
   ]
  },
  {
   "cell_type": "code",
   "execution_count": 34,
   "metadata": {},
   "outputs": [],
   "source": [
    "# Streamlit app starts here\n",
    "import streamlit as st\n",
    "\n",
    "st.set_page_config(page_title='NBA API App')\n",
    "st.title('NBA API App')\n",
    "\n",
    "query_text = st.text_input('Enter your question:', placeholder = 'Who had the highest points per game?')\n",
    "\n",
    "# Form input and query\n",
    "result = None\n",
    "with st.form('myform', clear_on_submit=True):\n",
    "\tsubmitted = st.form_submit_button('Submit')\n",
    "\tif submitted:\n",
    "\t\twith st.spinner('Calculating...'):\n",
    "\t\t\tresponse = agent_executor({\"input\": query_text})\n",
    "\t\t\tresult = response[\"output\"]\n",
    "\n",
    "if result is not None:\n",
    "\tst.info(result)"
   ]
  }
 ],
 "metadata": {
  "kernelspec": {
   "display_name": "jupyter",
   "language": "python",
   "name": "python3"
  },
  "language_info": {
   "codemirror_mode": {
    "name": "ipython",
    "version": 3
   },
   "file_extension": ".py",
   "mimetype": "text/x-python",
   "name": "python",
   "nbconvert_exporter": "python",
   "pygments_lexer": "ipython3",
   "version": "3.11.5"
  },
  "orig_nbformat": 4
 },
 "nbformat": 4,
 "nbformat_minor": 2
}
