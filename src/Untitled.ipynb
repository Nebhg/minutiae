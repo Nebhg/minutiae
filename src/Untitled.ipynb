{
 "cells": [
  {
   "cell_type": "code",
   "execution_count": 6,
   "id": "varied-poultry",
   "metadata": {},
   "outputs": [
    {
     "name": "stdout",
     "output_type": "stream",
     "text": [
      "https://www.basketball-reference.com/boxscores/202304160DEN.html\n",
      "{'Minnesota Timberwolves Basic and Advanced Stats', 'Denver Nuggets Basic and Advanced Stats'}\n"
     ]
    },
    {
     "ename": "AttributeError",
     "evalue": "'DataFrame' object has no attribute 'column_names'",
     "output_type": "error",
     "traceback": [
      "\u001b[1;31m---------------------------------------------------------------------------\u001b[0m",
      "\u001b[1;31mAttributeError\u001b[0m                            Traceback (most recent call last)",
      "\u001b[1;32m<ipython-input-6-d0cb4202c728>\u001b[0m in \u001b[0;36m<module>\u001b[1;34m\u001b[0m\n\u001b[0;32m     48\u001b[0m \u001b[1;33m\u001b[0m\u001b[0m\n\u001b[0;32m     49\u001b[0m \u001b[0mdf\u001b[0m \u001b[1;33m=\u001b[0m \u001b[0mpd\u001b[0m\u001b[1;33m.\u001b[0m\u001b[0mDataFrame\u001b[0m\u001b[1;33m(\u001b[0m\u001b[0mfetch_box_score\u001b[0m\u001b[1;33m(\u001b[0m\u001b[1;33m)\u001b[0m\u001b[1;33m)\u001b[0m\u001b[1;33m\u001b[0m\u001b[1;33m\u001b[0m\u001b[0m\n\u001b[1;32m---> 50\u001b[1;33m \u001b[0mdf\u001b[0m\u001b[1;33m.\u001b[0m\u001b[0mcolumn_names\u001b[0m\u001b[1;33m\u001b[0m\u001b[1;33m\u001b[0m\u001b[0m\n\u001b[0m",
      "\u001b[1;32mc:\\users\\sohaib karous\\appdata\\local\\programs\\python\\python37\\lib\\site-packages\\pandas\\core\\generic.py\u001b[0m in \u001b[0;36m__getattr__\u001b[1;34m(self, name)\u001b[0m\n\u001b[0;32m   5485\u001b[0m         ):\n\u001b[0;32m   5486\u001b[0m             \u001b[1;32mreturn\u001b[0m \u001b[0mself\u001b[0m\u001b[1;33m[\u001b[0m\u001b[0mname\u001b[0m\u001b[1;33m]\u001b[0m\u001b[1;33m\u001b[0m\u001b[1;33m\u001b[0m\u001b[0m\n\u001b[1;32m-> 5487\u001b[1;33m         \u001b[1;32mreturn\u001b[0m \u001b[0mobject\u001b[0m\u001b[1;33m.\u001b[0m\u001b[0m__getattribute__\u001b[0m\u001b[1;33m(\u001b[0m\u001b[0mself\u001b[0m\u001b[1;33m,\u001b[0m \u001b[0mname\u001b[0m\u001b[1;33m)\u001b[0m\u001b[1;33m\u001b[0m\u001b[1;33m\u001b[0m\u001b[0m\n\u001b[0m\u001b[0;32m   5488\u001b[0m \u001b[1;33m\u001b[0m\u001b[0m\n\u001b[0;32m   5489\u001b[0m     \u001b[1;32mdef\u001b[0m \u001b[0m__setattr__\u001b[0m\u001b[1;33m(\u001b[0m\u001b[0mself\u001b[0m\u001b[1;33m,\u001b[0m \u001b[0mname\u001b[0m\u001b[1;33m:\u001b[0m \u001b[0mstr\u001b[0m\u001b[1;33m,\u001b[0m \u001b[0mvalue\u001b[0m\u001b[1;33m)\u001b[0m \u001b[1;33m->\u001b[0m \u001b[1;32mNone\u001b[0m\u001b[1;33m:\u001b[0m\u001b[1;33m\u001b[0m\u001b[1;33m\u001b[0m\u001b[0m\n",
      "\u001b[1;31mAttributeError\u001b[0m: 'DataFrame' object has no attribute 'column_names'"
     ]
    }
   ],
   "source": [
    "import requests\n",
    "from bs4 import BeautifulSoup\n",
    "import csv\n",
    "import pandas as pd\n",
    "\n",
    "def fetch_box_score():\n",
    "    hrefs = set()\n",
    "    url = \"https://www.basketball-reference.com/playoffs/NBA_2023.html\"\n",
    "\n",
    "    response = requests.get(url)\n",
    "    soup = BeautifulSoup(response.content, 'html.parser')\n",
    "\n",
    "    # Steps #1 to #9\n",
    "    table_container = soup.find(\"div\", {\"id\": \"div_all_playoffs\"})\n",
    "    tbody = table_container.find(\"tbody\")\n",
    "    tr_toggleable = tbody.find_all(\"tr\", {\"class\": \"toggleable\"})\n",
    "    for trs in tr_toggleable:\n",
    "        a_s = trs.find_all(\"a\")\n",
    "        [hrefs.add(x[\"href\"]) for x in a_s]\n",
    "\n",
    "\n",
    "    for href_link in list(hrefs):\n",
    "        boxscore_link = f\"https://www.basketball-reference.com{href_link}\"\n",
    "        boxscore_link = \"https://www.basketball-reference.com/boxscores/202304160DEN.html\"\n",
    "        print(boxscore_link)\n",
    "        response = requests.get(boxscore_link)\n",
    "        soup = BeautifulSoup(response.content, 'html.parser')\n",
    "        titles = set()\n",
    "        tags_with_text = soup.find_all(lambda tag: \" and Advanced Stats\" in tag.text)\n",
    "        lowest_level_tags = [tag for tag in tags_with_text if\n",
    "                             not tag.find(lambda child: \" and Advanced Stats\" in child.text)]\n",
    "        for x in lowest_level_tags:\n",
    "            titles.add(x.text.replace(\"Table\", \"\").strip())\n",
    "        print(titles)\n",
    "\n",
    "        rows = []\n",
    "        for tbody in soup.find_all(\"tbody\"):\n",
    "            isStarter = True\n",
    "            for trs in tbody.find_all(\"tr\"):\n",
    "                row = {}\n",
    "                row[\"name\"] = trs.find(\"th\").text\n",
    "                row[\"starter\"] = isStarter\n",
    "                if trs.find(\"th\").text == \"Reserves\":\n",
    "                    isStarter = False\n",
    "                    continue\n",
    "                for tds in trs.find_all(\"td\"):\n",
    "                    row[tds[\"data-stat\"]] = tds.text\n",
    "                rows.append(row)\n",
    "                \n",
    "        return rows\n",
    "    \n",
    "df = pd.DataFrame(fetch_box_score())\n"
   ]
  },
  {
   "cell_type": "code",
   "execution_count": 9,
   "id": "unexpected-overall",
   "metadata": {},
   "outputs": [
    {
     "name": "stdout",
     "output_type": "stream",
     "text": [
      "                         name     mp fg fga fg_pct fg3 fg3a fg3_pct ft fta  \\\n",
      "0          Karl-Anthony Towns  29:34  5  15   .333   1    7    .143  0   2   \n",
      "1             Anthony Edwards  27:41  6  15   .400   1    4    .250  5   6   \n",
      "2                 Rudy Gobert  25:43  3   5   .600   0    0          2   4   \n",
      "3                 Mike Conley  24:57  3   5   .600   2    3    .667  0   0   \n",
      "4    Nickeil Alexander-Walker  23:30  2   6   .333   2    4    .500  1   2   \n",
      "..                        ...    ... ..  ..    ...  ..  ...     ... ..  ..   \n",
      "203                Zeke Nnaji   4:15  2   2  1.000   1    1   1.000  0   0   \n",
      "204            Reggie Jackson   4:15  0   0          0    0          0   0   \n",
      "205                 Ish Smith   4:15  0   1   .000   0    0          0   0   \n",
      "206             Peyton Watson   4:15  0   1   .000   0    1    .000  0   0   \n",
      "207             Vlatko Čančar   2:04  0   1   .000   0    1    .000  0   0   \n",
      "\n",
      "     ... orb drb trb ast stl blk tov pf pts plus_minus  \n",
      "0    ...   1   9  10   2   0   0   4  2  11        -11  \n",
      "1    ...   0   2   2   5   2   1   1  4  18        -12  \n",
      "2    ...   2  11  13   0   0   2   1  3   8        -28  \n",
      "3    ...   0   4   4   3   0   0   0  0   8        -18  \n",
      "4    ...   0   1   1   0   0   1   0  1   7         -6  \n",
      "..   ...  ..  ..  ..  ..  ..  ..  .. ..  ..        ...  \n",
      "203  ...   0   1   1   0   1   0   1  0   5         +2  \n",
      "204  ...   0   0   0   1   1   0   1  0   0         +2  \n",
      "205  ...   0   1   1   0   0   0   0  1   0         +2  \n",
      "206  ...   1   0   1   1   0   0   0  0   0         +2  \n",
      "207  ...   0   1   1   0   0   0   0  0   0         -1  \n",
      "\n",
      "[148 rows x 21 columns]\n"
     ]
    }
   ],
   "source": [
    "\n",
    "basic_column_names = ['name', 'mp', 'fg', 'fga', 'fg_pct', 'fg3', 'fg3a', 'fg3_pct', 'ft','fta', 'ft_pct', 'orb', 'drb', 'trb', 'ast', 'stl', 'blk', 'tov', 'pf','pts', 'plus_minus']\n",
    "df_selected = df[basic_column_names].dropna()\n"
   ]
  },
  {
   "cell_type": "code",
   "execution_count": 11,
   "id": "productive-frost",
   "metadata": {},
   "outputs": [],
   "source": [
    "df_selected.to_csv('output.csv', index=False)"
   ]
  },
  {
   "cell_type": "code",
   "execution_count": null,
   "id": "personal-window",
   "metadata": {},
   "outputs": [],
   "source": []
  }
 ],
 "metadata": {
  "kernelspec": {
   "display_name": "Python 3",
   "language": "python",
   "name": "python3"
  },
  "language_info": {
   "codemirror_mode": {
    "name": "ipython",
    "version": 3
   },
   "file_extension": ".py",
   "mimetype": "text/x-python",
   "name": "python",
   "nbconvert_exporter": "python",
   "pygments_lexer": "ipython3",
   "version": "3.7.9"
  }
 },
 "nbformat": 4,
 "nbformat_minor": 5
}
